{
 "cells": [
  {
   "cell_type": "code",
   "execution_count": 5,
   "id": "7739f071",
   "metadata": {},
   "outputs": [],
   "source": [
    "from bashplotlib.scatterplot import plot_scatter\n",
    "from bashplotlib.histogram import plot_hist\n",
    "import numpy as np"
   ]
  },
  {
   "cell_type": "markdown",
   "id": "c23ef622",
   "metadata": {},
   "source": [
    "# Bashplotlib"
   ]
  },
  {
   "cell_type": "code",
   "execution_count": 8,
   "id": "fa75f9ba",
   "metadata": {},
   "outputs": [
    {
     "name": "stdout",
     "output_type": "stream",
     "text": [
      "\n",
      " 55| \u001b[39m \u001b[39m\u001b[39m \u001b[39m\u001b[39m \u001b[39m\u001b[39m \u001b[39m\u001b[39m \u001b[39m\u001b[39m \u001b[39m\u001b[39m \u001b[39m\u001b[39m \u001b[39m\u001b[39m \u001b[39m\u001b[39m \u001b[39m\u001b[39m \u001b[39m\u001b[39m \u001b[39m\u001b[39m \u001b[39m\u001b[39m \u001b[39m\u001b[39m \u001b[39m\u001b[39m \u001b[39m\u001b[39m \u001b[39m\u001b[39m \u001b[39m\u001b[39m \u001b[39m\u001b[39m \u001b[39m\u001b[39m \u001b[39m\u001b[39mo\u001b[39m\u001b[39m \u001b[39m\u001b[39mo\u001b[39m\u001b[39m \u001b[39m\u001b[39m \u001b[39m\u001b[39m \u001b[39m\u001b[39m \u001b[39m\u001b[39m \u001b[39m\u001b[39m \u001b[39m\u001b[39m \u001b[39m\u001b[39m \u001b[39m\u001b[39m \u001b[39m\u001b[39m \u001b[39m\u001b[39m \u001b[39m\u001b[39m \u001b[39m\u001b[39m \u001b[39m\u001b[39m \u001b[39m\u001b[39m \u001b[39m\u001b[39m \u001b[39m\u001b[39m \u001b[39m\u001b[39m \u001b[39m\u001b[39m \u001b[39m\u001b[39m \u001b[39m\u001b[39m \u001b[39m\u001b[39m \u001b[39m\u001b[39m \u001b[39m\u001b[39m \u001b[39m\u001b[39m \u001b[39m\u001b[39m \u001b[39m\u001b[39m \u001b[39m\n",
      " 52| \u001b[39m \u001b[39m\u001b[39m \u001b[39m\u001b[39m \u001b[39m\u001b[39m \u001b[39m\u001b[39m \u001b[39m\u001b[39m \u001b[39m\u001b[39m \u001b[39m\u001b[39m \u001b[39m\u001b[39m \u001b[39m\u001b[39m \u001b[39m\u001b[39m \u001b[39m\u001b[39m \u001b[39m\u001b[39m \u001b[39m\u001b[39m \u001b[39m\u001b[39m \u001b[39m\u001b[39m \u001b[39m\u001b[39m \u001b[39m\u001b[39m \u001b[39m\u001b[39m \u001b[39m\u001b[39m \u001b[39m\u001b[39m \u001b[39m\u001b[39mo\u001b[39m\u001b[39m \u001b[39m\u001b[39mo\u001b[39m\u001b[39m \u001b[39m\u001b[39mo\u001b[39m\u001b[39mo\u001b[39m\u001b[39m \u001b[39m\u001b[39m \u001b[39m\u001b[39m \u001b[39m\u001b[39m \u001b[39m\u001b[39m \u001b[39m\u001b[39m \u001b[39m\u001b[39m \u001b[39m\u001b[39m \u001b[39m\u001b[39m \u001b[39m\u001b[39m \u001b[39m\u001b[39m \u001b[39m\u001b[39m \u001b[39m\u001b[39m \u001b[39m\u001b[39m \u001b[39m\u001b[39m \u001b[39m\u001b[39m \u001b[39m\u001b[39m \u001b[39m\u001b[39m \u001b[39m\u001b[39m \u001b[39m\u001b[39m \u001b[39m\u001b[39m \u001b[39m\u001b[39m \u001b[39m\u001b[39m \u001b[39m\u001b[39m \u001b[39m\n",
      " 49| \u001b[39m \u001b[39m\u001b[39m \u001b[39m\u001b[39m \u001b[39m\u001b[39m \u001b[39m\u001b[39m \u001b[39m\u001b[39m \u001b[39m\u001b[39m \u001b[39m\u001b[39m \u001b[39m\u001b[39m \u001b[39m\u001b[39m \u001b[39m\u001b[39m \u001b[39m\u001b[39m \u001b[39m\u001b[39m \u001b[39m\u001b[39m \u001b[39m\u001b[39m \u001b[39m\u001b[39m \u001b[39m\u001b[39m \u001b[39m\u001b[39m \u001b[39m\u001b[39m \u001b[39m\u001b[39m \u001b[39m\u001b[39m \u001b[39m\u001b[39mo\u001b[39m\u001b[39m \u001b[39m\u001b[39mo\u001b[39m\u001b[39mo\u001b[39m\u001b[39mo\u001b[39m\u001b[39mo\u001b[39m\u001b[39mo\u001b[39m\u001b[39m \u001b[39m\u001b[39m \u001b[39m\u001b[39m \u001b[39m\u001b[39m \u001b[39m\u001b[39m \u001b[39m\u001b[39m \u001b[39m\u001b[39m \u001b[39m\u001b[39m \u001b[39m\u001b[39m \u001b[39m\u001b[39m \u001b[39m\u001b[39m \u001b[39m\u001b[39m \u001b[39m\u001b[39m \u001b[39m\u001b[39m \u001b[39m\u001b[39m \u001b[39m\u001b[39m \u001b[39m\u001b[39m \u001b[39m\u001b[39m \u001b[39m\u001b[39m \u001b[39m\u001b[39m \u001b[39m\u001b[39m \u001b[39m\u001b[39m \u001b[39m\u001b[39m \u001b[39m\n",
      " 46| \u001b[39m \u001b[39m\u001b[39m \u001b[39m\u001b[39m \u001b[39m\u001b[39m \u001b[39m\u001b[39m \u001b[39m\u001b[39m \u001b[39m\u001b[39m \u001b[39m\u001b[39m \u001b[39m\u001b[39m \u001b[39m\u001b[39m \u001b[39m\u001b[39m \u001b[39m\u001b[39m \u001b[39m\u001b[39m \u001b[39m\u001b[39m \u001b[39m\u001b[39m \u001b[39m\u001b[39m \u001b[39m\u001b[39m \u001b[39m\u001b[39m \u001b[39m\u001b[39m \u001b[39m\u001b[39mo\u001b[39m\u001b[39mo\u001b[39m\u001b[39mo\u001b[39m\u001b[39m \u001b[39m\u001b[39mo\u001b[39m\u001b[39mo\u001b[39m\u001b[39mo\u001b[39m\u001b[39mo\u001b[39m\u001b[39mo\u001b[39m\u001b[39m \u001b[39m\u001b[39m \u001b[39m\u001b[39m \u001b[39m\u001b[39m \u001b[39m\u001b[39m \u001b[39m\u001b[39m \u001b[39m\u001b[39m \u001b[39m\u001b[39m \u001b[39m\u001b[39m \u001b[39m\u001b[39m \u001b[39m\u001b[39m \u001b[39m\u001b[39m \u001b[39m\u001b[39m \u001b[39m\u001b[39m \u001b[39m\u001b[39m \u001b[39m\u001b[39m \u001b[39m\u001b[39m \u001b[39m\u001b[39m \u001b[39m\u001b[39m \u001b[39m\u001b[39m \u001b[39m\u001b[39m \u001b[39m\u001b[39m \u001b[39m\u001b[39m \u001b[39m\n",
      " 43| \u001b[39m \u001b[39m\u001b[39m \u001b[39m\u001b[39m \u001b[39m\u001b[39m \u001b[39m\u001b[39m \u001b[39m\u001b[39m \u001b[39m\u001b[39m \u001b[39m\u001b[39m \u001b[39m\u001b[39m \u001b[39m\u001b[39m \u001b[39m\u001b[39m \u001b[39m\u001b[39m \u001b[39m\u001b[39m \u001b[39m\u001b[39m \u001b[39m\u001b[39m \u001b[39m\u001b[39m \u001b[39m\u001b[39m \u001b[39m\u001b[39m \u001b[39m\u001b[39m \u001b[39m\u001b[39mo\u001b[39m\u001b[39mo\u001b[39m\u001b[39mo\u001b[39m\u001b[39mo\u001b[39m\u001b[39mo\u001b[39m\u001b[39mo\u001b[39m\u001b[39mo\u001b[39m\u001b[39mo\u001b[39m\u001b[39mo\u001b[39m\u001b[39m \u001b[39m\u001b[39m \u001b[39m\u001b[39m \u001b[39m\u001b[39m \u001b[39m\u001b[39m \u001b[39m\u001b[39m \u001b[39m\u001b[39m \u001b[39m\u001b[39m \u001b[39m\u001b[39m \u001b[39m\u001b[39m \u001b[39m\u001b[39m \u001b[39m\u001b[39m \u001b[39m\u001b[39m \u001b[39m\u001b[39m \u001b[39m\u001b[39m \u001b[39m\u001b[39m \u001b[39m\u001b[39m \u001b[39m\u001b[39m \u001b[39m\u001b[39m \u001b[39m\u001b[39m \u001b[39m\u001b[39m \u001b[39m\u001b[39m \u001b[39m\u001b[39m \u001b[39m\n",
      " 40| \u001b[39m \u001b[39m\u001b[39m \u001b[39m\u001b[39m \u001b[39m\u001b[39m \u001b[39m\u001b[39m \u001b[39m\u001b[39m \u001b[39m\u001b[39m \u001b[39m\u001b[39m \u001b[39m\u001b[39m \u001b[39m\u001b[39m \u001b[39m\u001b[39m \u001b[39m\u001b[39m \u001b[39m\u001b[39m \u001b[39m\u001b[39m \u001b[39m\u001b[39m \u001b[39m\u001b[39m \u001b[39m\u001b[39m \u001b[39m\u001b[39m \u001b[39m\u001b[39m \u001b[39m\u001b[39mo\u001b[39m\u001b[39mo\u001b[39m\u001b[39mo\u001b[39m\u001b[39mo\u001b[39m\u001b[39mo\u001b[39m\u001b[39mo\u001b[39m\u001b[39mo\u001b[39m\u001b[39mo\u001b[39m\u001b[39mo\u001b[39m\u001b[39m \u001b[39m\u001b[39m \u001b[39m\u001b[39m \u001b[39m\u001b[39m \u001b[39m\u001b[39m \u001b[39m\u001b[39m \u001b[39m\u001b[39m \u001b[39m\u001b[39m \u001b[39m\u001b[39m \u001b[39m\u001b[39m \u001b[39m\u001b[39m \u001b[39m\u001b[39m \u001b[39m\u001b[39m \u001b[39m\u001b[39m \u001b[39m\u001b[39m \u001b[39m\u001b[39m \u001b[39m\u001b[39m \u001b[39m\u001b[39m \u001b[39m\u001b[39m \u001b[39m\u001b[39m \u001b[39m\u001b[39m \u001b[39m\u001b[39m \u001b[39m\u001b[39m \u001b[39m\n",
      " 38| \u001b[39m \u001b[39m\u001b[39m \u001b[39m\u001b[39m \u001b[39m\u001b[39m \u001b[39m\u001b[39m \u001b[39m\u001b[39m \u001b[39m\u001b[39m \u001b[39m\u001b[39m \u001b[39m\u001b[39m \u001b[39m\u001b[39m \u001b[39m\u001b[39m \u001b[39m\u001b[39m \u001b[39m\u001b[39m \u001b[39m\u001b[39m \u001b[39m\u001b[39m \u001b[39m\u001b[39m \u001b[39m\u001b[39m \u001b[39m\u001b[39m \u001b[39m\u001b[39m \u001b[39m\u001b[39mo\u001b[39m\u001b[39mo\u001b[39m\u001b[39mo\u001b[39m\u001b[39mo\u001b[39m\u001b[39mo\u001b[39m\u001b[39mo\u001b[39m\u001b[39mo\u001b[39m\u001b[39mo\u001b[39m\u001b[39mo\u001b[39m\u001b[39m \u001b[39m\u001b[39mo\u001b[39m\u001b[39m \u001b[39m\u001b[39m \u001b[39m\u001b[39mo\u001b[39m\u001b[39m \u001b[39m\u001b[39m \u001b[39m\u001b[39m \u001b[39m\u001b[39m \u001b[39m\u001b[39m \u001b[39m\u001b[39m \u001b[39m\u001b[39m \u001b[39m\u001b[39m \u001b[39m\u001b[39m \u001b[39m\u001b[39m \u001b[39m\u001b[39m \u001b[39m\u001b[39m \u001b[39m\u001b[39m \u001b[39m\u001b[39m \u001b[39m\u001b[39m \u001b[39m\u001b[39m \u001b[39m\u001b[39m \u001b[39m\u001b[39m \u001b[39m\n",
      " 35| \u001b[39m \u001b[39m\u001b[39m \u001b[39m\u001b[39m \u001b[39m\u001b[39m \u001b[39m\u001b[39m \u001b[39m\u001b[39m \u001b[39m\u001b[39m \u001b[39m\u001b[39m \u001b[39m\u001b[39m \u001b[39m\u001b[39m \u001b[39m\u001b[39m \u001b[39m\u001b[39m \u001b[39m\u001b[39m \u001b[39m\u001b[39m \u001b[39m\u001b[39m \u001b[39m\u001b[39m \u001b[39m\u001b[39m \u001b[39m\u001b[39m \u001b[39m\u001b[39m \u001b[39m\u001b[39mo\u001b[39m\u001b[39mo\u001b[39m\u001b[39mo\u001b[39m\u001b[39mo\u001b[39m\u001b[39mo\u001b[39m\u001b[39mo\u001b[39m\u001b[39mo\u001b[39m\u001b[39mo\u001b[39m\u001b[39mo\u001b[39m\u001b[39m \u001b[39m\u001b[39mo\u001b[39m\u001b[39mo\u001b[39m\u001b[39m \u001b[39m\u001b[39mo\u001b[39m\u001b[39m \u001b[39m\u001b[39m \u001b[39m\u001b[39m \u001b[39m\u001b[39m \u001b[39m\u001b[39m \u001b[39m\u001b[39m \u001b[39m\u001b[39m \u001b[39m\u001b[39m \u001b[39m\u001b[39m \u001b[39m\u001b[39m \u001b[39m\u001b[39m \u001b[39m\u001b[39m \u001b[39m\u001b[39m \u001b[39m\u001b[39m \u001b[39m\u001b[39m \u001b[39m\u001b[39m \u001b[39m\u001b[39m \u001b[39m\u001b[39m \u001b[39m\n",
      " 32| \u001b[39m \u001b[39m\u001b[39m \u001b[39m\u001b[39m \u001b[39m\u001b[39m \u001b[39m\u001b[39m \u001b[39m\u001b[39m \u001b[39m\u001b[39m \u001b[39m\u001b[39m \u001b[39m\u001b[39m \u001b[39m\u001b[39m \u001b[39m\u001b[39m \u001b[39m\u001b[39m \u001b[39m\u001b[39m \u001b[39m\u001b[39m \u001b[39m\u001b[39m \u001b[39m\u001b[39m \u001b[39m\u001b[39m \u001b[39m\u001b[39mo\u001b[39m\u001b[39m \u001b[39m\u001b[39mo\u001b[39m\u001b[39mo\u001b[39m\u001b[39mo\u001b[39m\u001b[39mo\u001b[39m\u001b[39mo\u001b[39m\u001b[39mo\u001b[39m\u001b[39mo\u001b[39m\u001b[39mo\u001b[39m\u001b[39mo\u001b[39m\u001b[39m \u001b[39m\u001b[39mo\u001b[39m\u001b[39mo\u001b[39m\u001b[39mo\u001b[39m\u001b[39mo\u001b[39m\u001b[39m \u001b[39m\u001b[39m \u001b[39m\u001b[39m \u001b[39m\u001b[39m \u001b[39m\u001b[39m \u001b[39m\u001b[39m \u001b[39m\u001b[39m \u001b[39m\u001b[39m \u001b[39m\u001b[39m \u001b[39m\u001b[39m \u001b[39m\u001b[39m \u001b[39m\u001b[39m \u001b[39m\u001b[39m \u001b[39m\u001b[39m \u001b[39m\u001b[39m \u001b[39m\u001b[39m \u001b[39m\u001b[39m \u001b[39m\u001b[39m \u001b[39m\n",
      " 29| \u001b[39m \u001b[39m\u001b[39m \u001b[39m\u001b[39m \u001b[39m\u001b[39m \u001b[39m\u001b[39m \u001b[39m\u001b[39m \u001b[39m\u001b[39m \u001b[39m\u001b[39m \u001b[39m\u001b[39m \u001b[39m\u001b[39m \u001b[39m\u001b[39m \u001b[39m\u001b[39m \u001b[39m\u001b[39m \u001b[39m\u001b[39m \u001b[39m\u001b[39m \u001b[39m\u001b[39m \u001b[39m\u001b[39mo\u001b[39m\u001b[39mo\u001b[39m\u001b[39m \u001b[39m\u001b[39mo\u001b[39m\u001b[39mo\u001b[39m\u001b[39mo\u001b[39m\u001b[39mo\u001b[39m\u001b[39mo\u001b[39m\u001b[39mo\u001b[39m\u001b[39mo\u001b[39m\u001b[39mo\u001b[39m\u001b[39mo\u001b[39m\u001b[39mo\u001b[39m\u001b[39mo\u001b[39m\u001b[39mo\u001b[39m\u001b[39mo\u001b[39m\u001b[39mo\u001b[39m\u001b[39m \u001b[39m\u001b[39m \u001b[39m\u001b[39m \u001b[39m\u001b[39m \u001b[39m\u001b[39m \u001b[39m\u001b[39m \u001b[39m\u001b[39m \u001b[39m\u001b[39m \u001b[39m\u001b[39m \u001b[39m\u001b[39m \u001b[39m\u001b[39m \u001b[39m\u001b[39m \u001b[39m\u001b[39m \u001b[39m\u001b[39m \u001b[39m\u001b[39m \u001b[39m\u001b[39m \u001b[39m\u001b[39m \u001b[39m\u001b[39m \u001b[39m\n",
      " 26| \u001b[39m \u001b[39m\u001b[39m \u001b[39m\u001b[39m \u001b[39m\u001b[39m \u001b[39m\u001b[39m \u001b[39m\u001b[39m \u001b[39m\u001b[39m \u001b[39m\u001b[39m \u001b[39m\u001b[39m \u001b[39m\u001b[39m \u001b[39m\u001b[39m \u001b[39m\u001b[39m \u001b[39m\u001b[39m \u001b[39m\u001b[39m \u001b[39m\u001b[39m \u001b[39m\u001b[39m \u001b[39m\u001b[39mo\u001b[39m\u001b[39mo\u001b[39m\u001b[39mo\u001b[39m\u001b[39mo\u001b[39m\u001b[39mo\u001b[39m\u001b[39mo\u001b[39m\u001b[39mo\u001b[39m\u001b[39mo\u001b[39m\u001b[39mo\u001b[39m\u001b[39mo\u001b[39m\u001b[39mo\u001b[39m\u001b[39mo\u001b[39m\u001b[39mo\u001b[39m\u001b[39mo\u001b[39m\u001b[39mo\u001b[39m\u001b[39mo\u001b[39m\u001b[39mo\u001b[39m\u001b[39m \u001b[39m\u001b[39m \u001b[39m\u001b[39m \u001b[39m\u001b[39m \u001b[39m\u001b[39m \u001b[39m\u001b[39m \u001b[39m\u001b[39m \u001b[39m\u001b[39m \u001b[39m\u001b[39m \u001b[39m\u001b[39m \u001b[39m\u001b[39m \u001b[39m\u001b[39m \u001b[39m\u001b[39m \u001b[39m\u001b[39m \u001b[39m\u001b[39m \u001b[39m\u001b[39m \u001b[39m\u001b[39m \u001b[39m\u001b[39m \u001b[39m\n",
      " 23| \u001b[39m \u001b[39m\u001b[39m \u001b[39m\u001b[39m \u001b[39m\u001b[39m \u001b[39m\u001b[39m \u001b[39m\u001b[39m \u001b[39m\u001b[39m \u001b[39m\u001b[39m \u001b[39m\u001b[39m \u001b[39m\u001b[39m \u001b[39m\u001b[39m \u001b[39m\u001b[39m \u001b[39m\u001b[39m \u001b[39m\u001b[39m \u001b[39m\u001b[39m \u001b[39m\u001b[39m \u001b[39m\u001b[39mo\u001b[39m\u001b[39mo\u001b[39m\u001b[39mo\u001b[39m\u001b[39mo\u001b[39m\u001b[39mo\u001b[39m\u001b[39mo\u001b[39m\u001b[39mo\u001b[39m\u001b[39mo\u001b[39m\u001b[39mo\u001b[39m\u001b[39mo\u001b[39m\u001b[39mo\u001b[39m\u001b[39mo\u001b[39m\u001b[39mo\u001b[39m\u001b[39mo\u001b[39m\u001b[39mo\u001b[39m\u001b[39mo\u001b[39m\u001b[39mo\u001b[39m\u001b[39mo\u001b[39m\u001b[39m \u001b[39m\u001b[39m \u001b[39m\u001b[39m \u001b[39m\u001b[39m \u001b[39m\u001b[39m \u001b[39m\u001b[39m \u001b[39m\u001b[39m \u001b[39m\u001b[39m \u001b[39m\u001b[39m \u001b[39m\u001b[39m \u001b[39m\u001b[39m \u001b[39m\u001b[39m \u001b[39m\u001b[39m \u001b[39m\u001b[39m \u001b[39m\u001b[39m \u001b[39m\u001b[39m \u001b[39m\u001b[39m \u001b[39m\n",
      " 20| \u001b[39m \u001b[39m\u001b[39m \u001b[39m\u001b[39m \u001b[39m\u001b[39m \u001b[39m\u001b[39m \u001b[39m\u001b[39m \u001b[39m\u001b[39m \u001b[39m\u001b[39m \u001b[39m\u001b[39m \u001b[39m\u001b[39m \u001b[39m\u001b[39m \u001b[39m\u001b[39m \u001b[39m\u001b[39m \u001b[39m\u001b[39m \u001b[39m\u001b[39mo\u001b[39m\u001b[39mo\u001b[39m\u001b[39mo\u001b[39m\u001b[39mo\u001b[39m\u001b[39mo\u001b[39m\u001b[39mo\u001b[39m\u001b[39mo\u001b[39m\u001b[39mo\u001b[39m\u001b[39mo\u001b[39m\u001b[39mo\u001b[39m\u001b[39mo\u001b[39m\u001b[39mo\u001b[39m\u001b[39mo\u001b[39m\u001b[39mo\u001b[39m\u001b[39mo\u001b[39m\u001b[39mo\u001b[39m\u001b[39mo\u001b[39m\u001b[39mo\u001b[39m\u001b[39mo\u001b[39m\u001b[39mo\u001b[39m\u001b[39mo\u001b[39m\u001b[39mo\u001b[39m\u001b[39m \u001b[39m\u001b[39m \u001b[39m\u001b[39m \u001b[39m\u001b[39m \u001b[39m\u001b[39m \u001b[39m\u001b[39m \u001b[39m\u001b[39m \u001b[39m\u001b[39m \u001b[39m\u001b[39m \u001b[39m\u001b[39m \u001b[39m\u001b[39m \u001b[39m\u001b[39m \u001b[39m\u001b[39m \u001b[39m\u001b[39m \u001b[39m\u001b[39m \u001b[39m\n",
      " 18| \u001b[39m \u001b[39m\u001b[39m \u001b[39m\u001b[39m \u001b[39m\u001b[39m \u001b[39m\u001b[39m \u001b[39m\u001b[39m \u001b[39m\u001b[39m \u001b[39m\u001b[39m \u001b[39m\u001b[39m \u001b[39m\u001b[39m \u001b[39m\u001b[39m \u001b[39m\u001b[39m \u001b[39m\u001b[39m \u001b[39m\u001b[39mo\u001b[39m\u001b[39mo\u001b[39m\u001b[39mo\u001b[39m\u001b[39mo\u001b[39m\u001b[39mo\u001b[39m\u001b[39mo\u001b[39m\u001b[39mo\u001b[39m\u001b[39mo\u001b[39m\u001b[39mo\u001b[39m\u001b[39mo\u001b[39m\u001b[39mo\u001b[39m\u001b[39mo\u001b[39m\u001b[39mo\u001b[39m\u001b[39mo\u001b[39m\u001b[39mo\u001b[39m\u001b[39mo\u001b[39m\u001b[39mo\u001b[39m\u001b[39mo\u001b[39m\u001b[39mo\u001b[39m\u001b[39mo\u001b[39m\u001b[39mo\u001b[39m\u001b[39mo\u001b[39m\u001b[39mo\u001b[39m\u001b[39m \u001b[39m\u001b[39m \u001b[39m\u001b[39m \u001b[39m\u001b[39m \u001b[39m\u001b[39m \u001b[39m\u001b[39m \u001b[39m\u001b[39m \u001b[39m\u001b[39m \u001b[39m\u001b[39m \u001b[39m\u001b[39m \u001b[39m\u001b[39m \u001b[39m\u001b[39m \u001b[39m\u001b[39m \u001b[39m\u001b[39m \u001b[39m\u001b[39m \u001b[39m\n",
      " 15| \u001b[39m \u001b[39m\u001b[39m \u001b[39m\u001b[39m \u001b[39m\u001b[39m \u001b[39m\u001b[39m \u001b[39m\u001b[39m \u001b[39m\u001b[39m \u001b[39m\u001b[39m \u001b[39m\u001b[39m \u001b[39m\u001b[39m \u001b[39m\u001b[39m \u001b[39m\u001b[39mo\u001b[39m\u001b[39m \u001b[39m\u001b[39mo\u001b[39m\u001b[39mo\u001b[39m\u001b[39mo\u001b[39m\u001b[39mo\u001b[39m\u001b[39mo\u001b[39m\u001b[39mo\u001b[39m\u001b[39mo\u001b[39m\u001b[39mo\u001b[39m\u001b[39mo\u001b[39m\u001b[39mo\u001b[39m\u001b[39mo\u001b[39m\u001b[39mo\u001b[39m\u001b[39mo\u001b[39m\u001b[39mo\u001b[39m\u001b[39mo\u001b[39m\u001b[39mo\u001b[39m\u001b[39mo\u001b[39m\u001b[39mo\u001b[39m\u001b[39mo\u001b[39m\u001b[39mo\u001b[39m\u001b[39mo\u001b[39m\u001b[39mo\u001b[39m\u001b[39mo\u001b[39m\u001b[39m \u001b[39m\u001b[39m \u001b[39m\u001b[39m \u001b[39m\u001b[39m \u001b[39m\u001b[39m \u001b[39m\u001b[39m \u001b[39m\u001b[39m \u001b[39m\u001b[39m \u001b[39m\u001b[39m \u001b[39m\u001b[39m \u001b[39m\u001b[39m \u001b[39m\u001b[39m \u001b[39m\u001b[39m \u001b[39m\u001b[39m \u001b[39m\u001b[39m \u001b[39m\n",
      " 12| \u001b[39m \u001b[39m\u001b[39m \u001b[39m\u001b[39m \u001b[39m\u001b[39m \u001b[39m\u001b[39m \u001b[39m\u001b[39m \u001b[39m\u001b[39m \u001b[39m\u001b[39mo\u001b[39m\u001b[39mo\u001b[39m\u001b[39m \u001b[39m\u001b[39mo\u001b[39m\u001b[39mo\u001b[39m\u001b[39m \u001b[39m\u001b[39mo\u001b[39m\u001b[39mo\u001b[39m\u001b[39mo\u001b[39m\u001b[39mo\u001b[39m\u001b[39mo\u001b[39m\u001b[39mo\u001b[39m\u001b[39mo\u001b[39m\u001b[39mo\u001b[39m\u001b[39mo\u001b[39m\u001b[39mo\u001b[39m\u001b[39mo\u001b[39m\u001b[39mo\u001b[39m\u001b[39mo\u001b[39m\u001b[39mo\u001b[39m\u001b[39mo\u001b[39m\u001b[39mo\u001b[39m\u001b[39mo\u001b[39m\u001b[39mo\u001b[39m\u001b[39mo\u001b[39m\u001b[39mo\u001b[39m\u001b[39mo\u001b[39m\u001b[39mo\u001b[39m\u001b[39mo\u001b[39m\u001b[39mo\u001b[39m\u001b[39m \u001b[39m\u001b[39m \u001b[39m\u001b[39m \u001b[39m\u001b[39m \u001b[39m\u001b[39m \u001b[39m\u001b[39m \u001b[39m\u001b[39m \u001b[39m\u001b[39m \u001b[39m\u001b[39m \u001b[39m\u001b[39m \u001b[39m\u001b[39m \u001b[39m\u001b[39m \u001b[39m\u001b[39m \u001b[39m\u001b[39m \u001b[39m\n",
      "  9| \u001b[39m \u001b[39m\u001b[39m \u001b[39m\u001b[39m \u001b[39m\u001b[39m \u001b[39m\u001b[39m \u001b[39m\u001b[39m \u001b[39m\u001b[39m \u001b[39m\u001b[39mo\u001b[39m\u001b[39mo\u001b[39m\u001b[39m \u001b[39m\u001b[39mo\u001b[39m\u001b[39mo\u001b[39m\u001b[39mo\u001b[39m\u001b[39mo\u001b[39m\u001b[39mo\u001b[39m\u001b[39mo\u001b[39m\u001b[39mo\u001b[39m\u001b[39mo\u001b[39m\u001b[39mo\u001b[39m\u001b[39mo\u001b[39m\u001b[39mo\u001b[39m\u001b[39mo\u001b[39m\u001b[39mo\u001b[39m\u001b[39mo\u001b[39m\u001b[39mo\u001b[39m\u001b[39mo\u001b[39m\u001b[39mo\u001b[39m\u001b[39mo\u001b[39m\u001b[39mo\u001b[39m\u001b[39mo\u001b[39m\u001b[39mo\u001b[39m\u001b[39mo\u001b[39m\u001b[39mo\u001b[39m\u001b[39mo\u001b[39m\u001b[39mo\u001b[39m\u001b[39mo\u001b[39m\u001b[39mo\u001b[39m\u001b[39mo\u001b[39m\u001b[39m \u001b[39m\u001b[39m \u001b[39m\u001b[39m \u001b[39m\u001b[39m \u001b[39m\u001b[39m \u001b[39m\u001b[39m \u001b[39m\u001b[39m \u001b[39m\u001b[39m \u001b[39m\u001b[39m \u001b[39m\u001b[39m \u001b[39m\u001b[39m \u001b[39m\u001b[39m \u001b[39m\u001b[39m \u001b[39m\n",
      "  6| \u001b[39m \u001b[39m\u001b[39m \u001b[39m\u001b[39m \u001b[39m\u001b[39m \u001b[39m\u001b[39m \u001b[39m\u001b[39m \u001b[39m\u001b[39mo\u001b[39m\u001b[39mo\u001b[39m\u001b[39mo\u001b[39m\u001b[39mo\u001b[39m\u001b[39mo\u001b[39m\u001b[39mo\u001b[39m\u001b[39mo\u001b[39m\u001b[39mo\u001b[39m\u001b[39mo\u001b[39m\u001b[39mo\u001b[39m\u001b[39mo\u001b[39m\u001b[39mo\u001b[39m\u001b[39mo\u001b[39m\u001b[39mo\u001b[39m\u001b[39mo\u001b[39m\u001b[39mo\u001b[39m\u001b[39mo\u001b[39m\u001b[39mo\u001b[39m\u001b[39mo\u001b[39m\u001b[39mo\u001b[39m\u001b[39mo\u001b[39m\u001b[39mo\u001b[39m\u001b[39mo\u001b[39m\u001b[39mo\u001b[39m\u001b[39mo\u001b[39m\u001b[39mo\u001b[39m\u001b[39mo\u001b[39m\u001b[39mo\u001b[39m\u001b[39mo\u001b[39m\u001b[39mo\u001b[39m\u001b[39mo\u001b[39m\u001b[39mo\u001b[39m\u001b[39m \u001b[39m\u001b[39mo\u001b[39m\u001b[39mo\u001b[39m\u001b[39m \u001b[39m\u001b[39m \u001b[39m\u001b[39m \u001b[39m\u001b[39m \u001b[39m\u001b[39m \u001b[39m\u001b[39m \u001b[39m\u001b[39m \u001b[39m\u001b[39m \u001b[39m\u001b[39m \u001b[39m\u001b[39m \u001b[39m\n",
      "  3| \u001b[39m \u001b[39m\u001b[39m \u001b[39m\u001b[39m \u001b[39m\u001b[39mo\u001b[39m\u001b[39mo\u001b[39m\u001b[39mo\u001b[39m\u001b[39mo\u001b[39m\u001b[39mo\u001b[39m\u001b[39mo\u001b[39m\u001b[39mo\u001b[39m\u001b[39mo\u001b[39m\u001b[39mo\u001b[39m\u001b[39mo\u001b[39m\u001b[39mo\u001b[39m\u001b[39mo\u001b[39m\u001b[39mo\u001b[39m\u001b[39mo\u001b[39m\u001b[39mo\u001b[39m\u001b[39mo\u001b[39m\u001b[39mo\u001b[39m\u001b[39mo\u001b[39m\u001b[39mo\u001b[39m\u001b[39mo\u001b[39m\u001b[39mo\u001b[39m\u001b[39mo\u001b[39m\u001b[39mo\u001b[39m\u001b[39mo\u001b[39m\u001b[39mo\u001b[39m\u001b[39mo\u001b[39m\u001b[39mo\u001b[39m\u001b[39mo\u001b[39m\u001b[39mo\u001b[39m\u001b[39mo\u001b[39m\u001b[39mo\u001b[39m\u001b[39mo\u001b[39m\u001b[39mo\u001b[39m\u001b[39mo\u001b[39m\u001b[39mo\u001b[39m\u001b[39mo\u001b[39m\u001b[39mo\u001b[39m\u001b[39mo\u001b[39m\u001b[39m \u001b[39m\u001b[39m \u001b[39m\u001b[39mo\u001b[39m\u001b[39m \u001b[39m\u001b[39m \u001b[39m\u001b[39m \u001b[39m\u001b[39m \u001b[39m\u001b[39mo\u001b[39m\u001b[39m \u001b[39m\u001b[39m \u001b[39m\n",
      "  1| \u001b[39mo\u001b[39m\u001b[39mo\u001b[39m\u001b[39m \u001b[39m\u001b[39mo\u001b[39m\u001b[39mo\u001b[39m\u001b[39mo\u001b[39m\u001b[39mo\u001b[39m\u001b[39mo\u001b[39m\u001b[39mo\u001b[39m\u001b[39mo\u001b[39m\u001b[39mo\u001b[39m\u001b[39mo\u001b[39m\u001b[39mo\u001b[39m\u001b[39mo\u001b[39m\u001b[39mo\u001b[39m\u001b[39mo\u001b[39m\u001b[39mo\u001b[39m\u001b[39mo\u001b[39m\u001b[39mo\u001b[39m\u001b[39mo\u001b[39m\u001b[39mo\u001b[39m\u001b[39mo\u001b[39m\u001b[39mo\u001b[39m\u001b[39mo\u001b[39m\u001b[39mo\u001b[39m\u001b[39mo\u001b[39m\u001b[39mo\u001b[39m\u001b[39mo\u001b[39m\u001b[39mo\u001b[39m\u001b[39mo\u001b[39m\u001b[39mo\u001b[39m\u001b[39mo\u001b[39m\u001b[39mo\u001b[39m\u001b[39mo\u001b[39m\u001b[39mo\u001b[39m\u001b[39mo\u001b[39m\u001b[39mo\u001b[39m\u001b[39mo\u001b[39m\u001b[39mo\u001b[39m\u001b[39mo\u001b[39m\u001b[39mo\u001b[39m\u001b[39mo\u001b[39m\u001b[39mo\u001b[39m\u001b[39mo\u001b[39m\u001b[39mo\u001b[39m\u001b[39m \u001b[39m\u001b[39m \u001b[39m\u001b[39m \u001b[39m\u001b[39mo\u001b[39m\u001b[39m \u001b[39m\u001b[39mo\u001b[39m\n",
      "    ---------------------------------------------------\n"
     ]
    }
   ],
   "source": [
    "import numpy as np\n",
    "from bashplotlib.histogram import plot_hist\n",
    "arr = np.random.normal(size=1000, loc=0, scale=1)\n",
    "plot_hist(arr, bincount=50) "
   ]
  },
  {
   "cell_type": "markdown",
   "id": "500d783b",
   "metadata": {},
   "source": [
    "# Emoji"
   ]
  },
  {
   "cell_type": "code",
   "execution_count": 9,
   "id": "185027e0",
   "metadata": {},
   "outputs": [
    {
     "name": "stdout",
     "output_type": "stream",
     "text": [
      "Thank you 👍\n",
      "Coding is fun ❤️\n"
     ]
    }
   ],
   "source": [
    "import emoji\n",
    "print(emoji.emojize('Thank you :thumbs_up:'))\n",
    "print(emoji.emojize(\"Coding is fun :red_heart:\", variant=\"emoji_type\"))"
   ]
  },
  {
   "cell_type": "markdown",
   "id": "ccb999f0",
   "metadata": {},
   "source": [
    "# Geopy"
   ]
  },
  {
   "cell_type": "code",
   "execution_count": 15,
   "id": "79c575e5",
   "metadata": {},
   "outputs": [
    {
     "name": "stdout",
     "output_type": "stream",
     "text": [
      "{'place_id': 313202034, 'licence': 'Data © OpenStreetMap contributors, ODbL 1.0. https://osm.org/copyright', 'osm_type': 'way', 'osm_id': 435704691, 'boundingbox': ['41.883367066257', '41.883467066257', '-87.632353164487', '-87.632253164487'], 'lat': '41.88341706625744', 'lon': '-87.632303164487', 'display_name': '121, North LaSalle Street, Loop, Chicago, Cook County, Illinois, 60602, United States', 'class': 'place', 'type': 'house', 'importance': -0.63}\n",
      "121, North LaSalle Street, Loop, Chicago, Cook County, Illinois, 60602, United States\n",
      "(41.88341706625744, -87.632303164487)\n"
     ]
    }
   ],
   "source": [
    "from geopy.geocoders import Nominatim\n",
    "\n",
    "# create a Nominatim object\n",
    "geolocator = Nominatim(user_agent=\"app_name\")\n",
    "location = geolocator.geocode(\"121 N LaSalle St, Chicago\")\n",
    "\n",
    "print(location.raw)\n",
    "print(location.address)\n",
    "print((location.latitude, location.longitude))"
   ]
  },
  {
   "cell_type": "code",
   "execution_count": 24,
   "id": "8aea3e63",
   "metadata": {},
   "outputs": [
    {
     "name": "stdout",
     "output_type": "stream",
     "text": [
      "The distance between New York and Texas is:  2507.14797665193\n"
     ]
    }
   ],
   "source": [
    "# Import the geodesic module from the geopy library  \n",
    "from geopy.distance import geodesic as GD  \n",
    "    \n",
    "# Load the latitude and longitude data for New York & Texas  \n",
    "New_York = (40.7128, 74.0060)  \n",
    "Texas = (31.9686, 99.9018)  \n",
    "    \n",
    "# Print the distance between two points calculated in kilo-metre  \n",
    "print (\"The distance between New York and Texas is: \", GD(New_York, Texas).km)  "
   ]
  },
  {
   "cell_type": "markdown",
   "id": "d2b6d127",
   "metadata": {},
   "source": [
    "# Howdoi"
   ]
  },
  {
   "cell_type": "code",
   "execution_count": 25,
   "id": "f3c410c5",
   "metadata": {},
   "outputs": [],
   "source": [
    "import howdoi"
   ]
  },
  {
   "cell_type": "code",
   "execution_count": null,
   "id": "e4a55a1d",
   "metadata": {},
   "outputs": [],
   "source": [
    "howdoi hello world in javscript "
   ]
  },
  {
   "cell_type": "code",
   "execution_count": null,
   "id": "68583aa1",
   "metadata": {},
   "outputs": [],
   "source": []
  },
  {
   "cell_type": "code",
   "execution_count": null,
   "id": "9696153f",
   "metadata": {},
   "outputs": [],
   "source": []
  }
 ],
 "metadata": {
  "kernelspec": {
   "display_name": "Python 3 (ipykernel)",
   "language": "python",
   "name": "python3"
  },
  "language_info": {
   "codemirror_mode": {
    "name": "ipython",
    "version": 3
   },
   "file_extension": ".py",
   "mimetype": "text/x-python",
   "name": "python",
   "nbconvert_exporter": "python",
   "pygments_lexer": "ipython3",
   "version": "3.9.9"
  }
 },
 "nbformat": 4,
 "nbformat_minor": 5
}
